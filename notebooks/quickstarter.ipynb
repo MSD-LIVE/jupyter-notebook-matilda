{
 "cells": [
  {
   "cell_type": "markdown",
   "id": "963fdaa2-97c0-40f8-9fa5-6ee406d99341",
   "metadata": {},
   "source": [
    "# Matilda Quickstarter"
   ]
  },
  {
   "cell_type": "markdown",
   "id": "30ca6abb-f65f-4c90-b729-032b4958ac7a",
   "metadata": {},
   "source": [
    "# Introduction\n",
    "\n",
    "Matilda is an open-source R pakcage that provides the Hector simple climate model with a probabilistic analysis framework. Just like Hector, Matilda has applictions, the most prominent of which is to generate large ensembles to explore parameter uncertainties. Additionally, Matilda provides an ensemble weighting methodology for climate projections. This can be used to weight ensemble members based on how closely they represent historic data. \n",
    "\n",
    "This vignette will walk through the usage of Matilda with example of the important functions and useful ways to visualize the results. This vignette assumes that Matilda, Hector, and dependancies are already installed. The for Matilda code repository can be accessed [here](https://github.com/JGCRI/matilda/tree/main/R) and a software description can be accessed [here](https://journals.plos.org/climate/article?id=10.1371/journal.pclm.0000295).\n"
   ]
  },
  {
   "cell_type": "markdown",
   "id": "b738cf72-fa0f-48af-a3e9-9a400c814ae8",
   "metadata": {},
   "source": [
    "# Set-up\n",
    "\n",
    "First, load the `matilda` package. If you have not installed `matilda` before, you will first need to install using `devtools::install_github(\"jgcri/matilda\")`"
   ]
  },
  {
   "cell_type": "code",
   "execution_count": 2,
   "id": "65913b7c-7c94-41ca-8698-4aba05afc55a",
   "metadata": {},
   "outputs": [
    {
     "name": "stderr",
     "output_type": "stream",
     "text": [
      "Downloading GitHub repo jgcri/matilda@HEAD\n",
      "\n"
     ]
    },
    {
     "name": "stdout",
     "output_type": "stream",
     "text": [
      "hector (NA -> a61d64af3...) [GitHub]\n"
     ]
    },
    {
     "name": "stderr",
     "output_type": "stream",
     "text": [
      "Downloading GitHub repo JGCRI/hector@HEAD\n",
      "\n"
     ]
    },
    {
     "name": "stdout",
     "output_type": "stream",
     "text": [
      "BH   (NA     -> 1.87.0-1) [CRAN]\n",
      "Rcpp (1.0.12 -> 1.0.14  ) [CRAN]\n"
     ]
    },
    {
     "name": "stderr",
     "output_type": "stream",
     "text": [
      "Installing 2 packages: BH, Rcpp\n",
      "\n",
      "Updating HTML index of packages in '.Library'\n",
      "\n",
      "Making 'packages.html' ...\n",
      " done\n",
      "\n"
     ]
    },
    {
     "name": "stdout",
     "output_type": "stream",
     "text": [
      "\u001b[36m──\u001b[39m \u001b[36mR CMD build\u001b[39m \u001b[36m─────────────────────────────────────────────────────────────────\u001b[39m\n",
      "* checking for file ‘/tmp/RtmpIryCpd/remotes1b19264d8d/JGCRI-hector-a61d64a/DESCRIPTION’ ... OK\n",
      "* preparing ‘hector’:\n",
      "* checking DESCRIPTION meta-information ... OK\n",
      "* cleaning src\n",
      "* checking for LF line-endings in source and make files and shell scripts\n",
      "* checking for empty or unneeded directories\n",
      "* building ‘hector_3.2.0.tar.gz’\n",
      "\n"
     ]
    },
    {
     "name": "stderr",
     "output_type": "stream",
     "text": [
      "Skipping install of 'hector' from a github remote, the SHA1 (a61d64af) has not changed since last install.\n",
      "  Use `force = TRUE` to force installation\n",
      "\n"
     ]
    },
    {
     "name": "stdout",
     "output_type": "stream",
     "text": [
      "\u001b[36m──\u001b[39m \u001b[36mR CMD build\u001b[39m \u001b[36m─────────────────────────────────────────────────────────────────\u001b[39m\n",
      "* checking for file ‘/tmp/RtmpIryCpd/remotes1b12fbfdcdd/JGCRI-matilda-dd11f9a/DESCRIPTION’ ... OK\n",
      "* preparing ‘matilda’:\n",
      "* checking DESCRIPTION meta-information ... OK\n",
      "* checking for LF line-endings in source and make files and shell scripts\n",
      "* checking for empty or unneeded directories\n",
      "* building ‘matilda_0.1.0.tar.gz’\n",
      "\n"
     ]
    }
   ],
   "source": [
    "devtools::install_github(\"jgcri/matilda\")"
   ]
  },
  {
   "cell_type": "code",
   "execution_count": 1,
   "id": "f3b489cb-b01d-480f-85df-72f5cf2b43c7",
   "metadata": {
    "tags": []
   },
   "outputs": [
    {
     "ename": "ERROR",
     "evalue": "Error in library(matilda): there is no package called ‘matilda’\n",
     "output_type": "error",
     "traceback": [
      "Error in library(matilda): there is no package called ‘matilda’\nTraceback:\n",
      "1. library(matilda)"
     ]
    }
   ],
   "source": [
    "library(matilda)"
   ]
  },
  {
   "cell_type": "code",
   "execution_count": null,
   "id": "544b09c3-0b1e-476f-ac2b-353ab29b8c0c",
   "metadata": {
    "tags": []
   },
   "outputs": [],
   "source": [
    "# quiet messaging\n",
    "options(matilda.verbose = F)\n",
    "\n",
    "# plot settings\n",
    "options(repr.plot.width = 12, repr.plot.height = 8)"
   ]
  },
  {
   "cell_type": "markdown",
   "id": "9f8e325a-ae3e-4c60-a331-ad6ce75e8bbd",
   "metadata": {},
   "source": [
    "## Configure Hector core\n",
    "\n",
    "Next, we will initialize a \"core\" for a new Hector instance. \n",
    "More information about establishing a new core for running Hector can be found in the tutorial for using the [Hector R interface](https://jgcri.github.io/hector/articles/intro-to-hector.html).\n"
   ]
  },
  {
   "cell_type": "code",
   "execution_count": null,
   "id": "80dc1363-3126-48fd-936a-0ad0fc99cf9a",
   "metadata": {
    "tags": []
   },
   "outputs": [],
   "source": [
    "# Read INI file with emission scenario of interest and create a new core\n",
    "ini <- system.file(\"input/hector_ssp245.ini\", package = \"hector\")\n",
    "\n",
    "c_ssp245 <- newcore(ini, name = \"SSP2-4.5\")\n"
   ]
  },
  {
   "cell_type": "markdown",
   "id": "af202d8e-f4bb-46b9-8d3e-4fa6a08eff6b",
   "metadata": {},
   "source": [
    "This new Hector core is a self-contained object with information about Hector inputs and outputs.\n"
   ]
  },
  {
   "cell_type": "markdown",
   "id": "cabac719-561d-4a31-887e-e7c4deb4d44d",
   "metadata": {},
   "source": [
    "## Generate parameter values\n",
    "\n",
    "In Matilda we can generate parameter values using `generate_params()`. The purpose of this function is to sample parameter values form pre-defined distributions, some of the distirbutions are assumed to be normal while others are assumed to be lognormal. The mean of the distributions is defined using parameter values from Hector (note that the version of Hector you are running will affect what these distributions). The standard deviation of the distirbutions is based on the scientific literature.\n",
    "\n",
    "In Matilda we currrently have parameter distributions defined for 6 parameters that have significant control over the behavior of Hector's carbon cycle. These parameters include:\n",
    "\n",
    "- `BETA` - CO2 fertilization factor. This parameter adjusts the efficiency of plant carbon uptake. With higher values of `BETA` more carbon is drawn from the atmosphere and stored in the land sink by way of vegetatie productivity.\n",
    "\n",
    "- `Q10_RH` - Heterotrophic respiration temperature sensitivity factor. This parameter adjusts how heterotrophic respiration reponds to warming. Higher levels of `Q10_RH` indicate higher sensitivity to warming which could lead to more carbon released from microbial activity.\n",
    "\n",
    "- `NPP_FLUX0` - Initial net primary productivity flux. This parameter sets the initial baseline plant productivity.\n",
    "\n",
    "- `AERO_SCALE` - Aerosol scaling factor. This is a unitless scale factor used to adjust Hector's temperature sensitivity to aerosol radiative forcing. Higher values of this parameter inidcate increased temperature sensitivity to aerosols.\n",
    "\n",
    "- ` DIFFUSIVITY` - Ocean heat diffusivity. This parameter controls the rate heat diffuses into the deep ocean. Higher values of this parameter indicates more efficient heat diffusion and could lead to more moderate warming. \n",
    "\n",
    "- `ECS` - Equilibrium climate sensitivity. Characterizes Hector's long-term temperature response to chnages in atmospheric CO2 concentrations. \n",
    "\n",
    "The first argument in `generate_params` is the Hector core we are working form, the scond is the number of `draws` or samples we want to generate. Parameter samples are drawn from respective distributions randomly using a Monte Carlo method.\n"
   ]
  },
  {
   "cell_type": "code",
   "execution_count": null,
   "id": "8137955d-8a33-4f9f-abad-4a74d92f5822",
   "metadata": {
    "tags": []
   },
   "outputs": [],
   "source": [
    "# Generate a data frame of random parameter values\n",
    "set.seed(245)\n",
    "\n",
    "param_values <- generate_params(c_ssp245, draws = 20)\n",
    "\n",
    "head(param_values, 5)\n"
   ]
  },
  {
   "cell_type": "markdown",
   "id": "d70cd858-f715-4ed5-bacf-878ac71ec05b",
   "metadata": {},
   "source": [
    "We now have a data frame object with 20 random values sampled for each parameter.\n",
    "\n",
    "We call these perturbed parameter sets and each parameter set can each be used for a single Hector run to produce a simulation. \n",
    "\n",
    "It may be of interest to only randomly sample a few model parameters while keeping all other parameters static. This type of control is easily enforcible by manipulating columns in our `param_values` data frame. \n",
    "\n",
    "For example, if we are only interested in perturbing CO2 fertilization (`BETA`) and ocean heat diffusivity (`DIFFUSIVITY()`), we can simply drop all other columns in the `param_values` data frame. This leaves only the parameters we want to perturbe when building the ensemble of model runs.\n"
   ]
  },
  {
   "cell_type": "code",
   "execution_count": null,
   "id": "55f9ef7c-cd23-46be-9e45-5bfcef790c91",
   "metadata": {
    "tags": []
   },
   "outputs": [],
   "source": [
    "# producing data frame to only manipulate BETA and DIFFUSIVITY\n",
    "alter_beta_diff <- param_values[c(1, 5)]\n",
    "\n",
    "head(alter_beta_diff)\n"
   ]
  },
  {
   "cell_type": "markdown",
   "id": "ba5864fd-9054-4cc3-8f37-24f75ff4d33b",
   "metadata": {},
   "source": [
    "In these cases, all other parameters will follow Hector defaults when running the ensemble."
   ]
  },
  {
   "cell_type": "markdown",
   "id": "8c77fb75-df96-4fac-9876-ca0edd3e5a44",
   "metadata": {},
   "source": [
    "# Running Hector iteratively\n",
    "\n",
    "Running the Hector simple climate model iteratively with slightly different parameters for each run (from our `param_values`) is the first really cool design feature of Matilda. This function will use the perturbed parameter set to run Hector simulations, resulting in a perturbed parameter ensemble (PPE). \n",
    "\n",
    "To run the model and build the PPE we call `iterate_model()`.\n",
    "\n",
    "Running `iterate_model()` requires a core and a data frame of parameter values. In this tutorial we will use the core and parameter values we established earlier."
   ]
  },
  {
   "cell_type": "code",
   "execution_count": null,
   "id": "c1b4132d-c779-40ff-8bc3-53cb12c1c020",
   "metadata": {
    "tags": []
   },
   "outputs": [],
   "source": [
    "# Run Hector repeatedly over all parameter values\n",
    "results <- iterate_model(\n",
    "  core = c_ssp245,\n",
    "  params = param_values\n",
    ")\n",
    "\n",
    "head(results)\n"
   ]
  },
  {
   "cell_type": "markdown",
   "id": "da13083a-5208-48f6-a407-750141287b08",
   "metadata": {},
   "source": [
    "By default the function returns the Hector default climate variables `CO2_concentration`, `RF_CO2`, `RF_tot`, and `global_tas` for the Hector default years 1745-2300. This results in a data frame object with 44,480 rows: 10 samples * 556 years * 4 variables.\n",
    "\n",
    "Users can adjust the output to suite their needs by calling the `save_vars` and `save_years` arguments in `iterate_model`. This will subset the data frame object to to the years and variables identified. \n",
    "\n",
    "_When planning the output of your PPE; 1) take into consideration the variables that you need. Matilda is built around Hector and therefore can fetch any output variables that Hector produces. 2) Consider the years that you will need in the ouput. Do not cut the years of your ouput too short, this can cause issues down the road depending on your use of the data._   \n",
    "\n",
    "We can plot the results easily in `ggplot2`."
   ]
  },
  {
   "cell_type": "code",
   "execution_count": null,
   "id": "394a62db-9929-4bdd-b570-6f279062b729",
   "metadata": {
    "tags": []
   },
   "outputs": [],
   "source": [
    "library(ggplot2)\n",
    "\n",
    "ggplot(data = results,\n",
    "       aes(x = year, y = value, group = run_number)) +\n",
    "  geom_line() +\n",
    "  facet_wrap(~variable, scales = \"free_y\") +\n",
    "  theme_light(base_size = 18)\n"
   ]
  },
  {
   "cell_type": "markdown",
   "id": "6fac4576-9e2f-4682-a8c5-0b59ad003718",
   "metadata": {},
   "source": [
    "From the plot, we can see that we have a PPE of Hector runs. Each Plotted line is a member of the ensemble and we can see from the spread of the runs that there is an effect when we incorporate parameter uncertainty into simulations. \n",
    "\n",
    "As these results stand, each member in the ensemble is contributing equal information to the range of possible outcomes. However, there are likely some memebers in this ensemble that are not accurate in representing the Earth system. This occurs because some of the random parameter sets used to produce the ensemble yeild unrealistic model response. For this reason, we can constrain, score, and weight ensemble members to highlight those that are most likely accurate."
   ]
  },
  {
   "cell_type": "markdown",
   "id": "1742e355-bd2f-4021-be40-64ac150944de",
   "metadata": {},
   "source": [
    "# Scoring and weighting results\n",
    "\n",
    "The Next biggest design feature in Matilda is the ability to score, weight, and constraint PPEs. It is important that we score ensemble members against historic data and/or future climate from Earth System Models (see e.g. [Goodwin and Cael 2021](https://esd.copernicus.org/articles/12/709/2021/)). This allows us to 1) discard any models that are not realistic representations of the Earth system and 2) weight the models that perform the best so that further ananlysis is as accurate as possible.\n",
    "\n",
    "In Matilda there are functions that compute a score for each PPE member, these scores are then used to compute normalized weights for each ensemble member, representing the likelihood of each ensemble member.\n",
    "\n",
    "Scoring members of a PPE requires a **scoring criterion**. In Matilda, a **scoring criterion** is an object fo class `criterion` used as evidence in scoring ensemble members. Matilda gives the user the ability to create their own criterion using any dataset they supply. New criterion are built by calling `new_criterion()`. \n",
    "\n",
    "Here we provide an arbitrary example to show how `new_criterion` can work (this specific example in nonsensical and should not be used for an analysis):\n"
   ]
  },
  {
   "cell_type": "code",
   "execution_count": null,
   "id": "29cc07bc-f987-47f9-832e-f877e9a37d40",
   "metadata": {
    "tags": []
   },
   "outputs": [],
   "source": [
    "# Create a new criterion \n",
    "# In this case, we set up a global temperature criterion, with the 'observations'\n",
    "# running from 1951 to 2000\n",
    "my_criterion <- new_criterion(GLOBAL_TAS(),\n",
    "  years = 1951:2000,\n",
    "  obs_values = seq(0.4, 1.0, length.out = 50)\n",
    ")\n",
    "\n",
    "my_criterion\n"
   ]
  },
  {
   "cell_type": "markdown",
   "id": "cf89de79-8d52-4cd9-ad9b-b8f898b22435",
   "metadata": {},
   "source": [
    "We cand see by printing `my_criterion` that a new criterion is being stored that will use the data we provided to score ensemble members by `global_tas` in the years 1951-2000 printed.\n",
    "\n",
    "Matilda also provides criterion baked into the package. These include:\n",
    "\n",
    "- `criterion_co2_obs()` - Uses historic CO2 observations from the [Mauna Loa atmospheric CO2 observatory](https://gml.noaa.gov/ccgg/trends/).\n",
    "\n",
    "- `criterion_gmst_obs()` - Uses [HadCRUT5](https://metoffice.gov.uk/hadobs/hadcrut5) global historical surface temperature anomalies mean global surface temperature anomalies realtive to a 1961-1990 reference period.\n",
    "\n",
    "For sake of simplicity in this tutorial, we will use a single criterion to weight our esemble (`criterion_co2_obs()`). However, it is important to note that to take full advantage of Matilda's model scoring/weighting mechanism, multiple criteria can, and should be used.\n",
    "\n",
    "To compute scores for our ensemble, we call `score_runs()`. This function uses our PPE, scoring criterion, and a **scoring function** to compute a score for each ensemble member. A **scoring function** is an algorithm that computes a score for for each ensemble memeber based on how well the ensemble fits the criterion. Those scores are then normalized as part of `score_runs()`, producing the model weights. \n",
    "\n",
    "Matilda currently has two provided scoring functions:\n",
    "\n",
    "- `score_ramp()`\n",
    "\n",
    "- `score_bayesian()`\n",
    "\n",
    "For the  purposes of this tutorial we will be calling `score_ramp` as our scoring function.\n",
    "\n",
    "`score_ramp` will ramp down an ensemble member's score linearly as it deviates from observations. It determines the acceptable deviation with user supplied bounds. For example, we can create an instance where ensemble members with differences $\\le$ the `w1` parameter will score 1.0, while members with differences $\\ge$ `w2` will score 0.0, and ensmeble members scores decrease linearly between `w1` to `w2`.\n"
   ]
  },
  {
   "attachments": {
    "853bd045-5695-4a0c-b478-89adb2f1f0c0.PNG": {
     "image/png": "[encoded data removed]"
    }
   },
   "cell_type": "markdown",
   "id": "fe2d3a52-e31c-421c-95da-f624635d8e9c",
   "metadata": {},
   "source": [
    "![journal.pclm.0000295.g003.PNG](attachment:853bd045-5695-4a0c-b478-89adb2f1f0c0.PNG)"
   ]
  },
  {
   "cell_type": "markdown",
   "id": "9a29b2c8-96ee-4d3e-94a2-fcfea4157410",
   "metadata": {},
   "source": [
    "The figure provides a simple example of how `score_ramp` computes scores betweeen two bounds.\n",
    "\n",
    "Here, we score/weight our ensemble for members that are within 2-5 ppm of our observed atmospheric CO2 concentration criterion."
   ]
  },
  {
   "cell_type": "code",
   "execution_count": null,
   "id": "7fb782a5-100d-4173-a58d-e441a0555427",
   "metadata": {
    "tags": []
   },
   "outputs": [],
   "source": [
    "# Score ensemble with observed CO2 data\n",
    "scores <- score_runs(results, \n",
    "                     criterion_co2_obs(), \n",
    "                     score_ramp, \n",
    "                     w1 = 2, w2 = 5)\n",
    "\n",
    "head(scores)\n"
   ]
  },
  {
   "cell_type": "markdown",
   "id": "dc2853f0-8e5a-48be-a762-68e18a223b91",
   "metadata": {},
   "source": [
    "The result of the scoring process is a new data frame object with a weight calculated for each ensemble member (indicated by `run_number`). Ensemble members that did not fall within the acceptable range $\\ge$ 5 ppm deviation from the scoring criterion are give a score of 0 (culled from contributing information to probabilistic calculation). Ensemble members which closely replicate historic data in our criterion have weights closer to 1. \n",
    "\n",
    "After merging our wieghts to our full PPE results, we can visualize the weighted ensemble members, highlighting those PPE members that were closest to our scoring criterion:\n"
   ]
  },
  {
   "cell_type": "code",
   "execution_count": null,
   "id": "ea3da7fb-fa92-4101-bcf2-7e4cdba0c6f2",
   "metadata": {
    "tags": []
   },
   "outputs": [],
   "source": [
    "# Merge results with model scores\n",
    "results_scored <- merge(results, scores, by = \"run_number\")\n",
    "\n",
    "ggplot(data = results_scored) +\n",
    "  geom_line(aes(x = year, y = value, group = run_number, color = weights)) +\n",
    "  scale_color_gradient(low = 'skyblue', high = 'dodgerblue4', name = \"Weights\") +\n",
    "  #scale_alpha_continuous(range(c(0.8, 1)), name = NULL) +\n",
    "  facet_wrap(~variable, scales = \"free_y\") +\n",
    "  theme_light(base_size = 18)\n"
   ]
  },
  {
   "cell_type": "markdown",
   "id": "396b2930-a7a2-4405-84f1-1cfd5bc45bae",
   "metadata": {},
   "source": [
    "With this visualization, we can see that ensmeble members with lower scores (more deviation from our criterion) are in lighter blue. These are ensemble members that do not fit historical data well and therefore should be excluded from contributing information to probabilistic projections.\n",
    "\n",
    "With this process we are able to begin to constain our PPE for the most realistic simulations."
   ]
  },
  {
   "cell_type": "markdown",
   "id": "b00563f2-25b0-4c0d-a0f8-d9892c53ba04",
   "metadata": {},
   "source": [
    "# Defining and calculating climate metrics\n",
    "\n",
    "The next cool feature Matilda provides is an easy-to-use mechanism for summarizing climate metrics from PPEs. For instance, we can calculate the median warming for the 2090-2100 period. This tells us the amount of warming in the last decade of the century relative to some historical period (this requires some post-processing). A **metric** value is computed for each ensemble member.\n",
    "\n",
    "In order to use this feature, we first have to call `new_metric()` to define the climate metric we want to use. This function takes three arguments; 1) the climate variable we want to summarize, 2) the year range for the metric, and 3) an operation to implement (mean, meadian, etc.). This will create a metric object\n",
    "\n",
    "In this tutorial we will call `new_metric()` to create metric for median `global_tas` or GSAT (global mean air temperature) for the 2090:2100 period. \n"
   ]
  },
  {
   "cell_type": "code",
   "execution_count": null,
   "id": "ca2b72e8-282a-40d6-af8f-569721c6cc4a",
   "metadata": {
    "tags": []
   },
   "outputs": [],
   "source": [
    "# Define a new_metric object for Hector analysis\n",
    "my_metric <- new_metric(GLOBAL_TAS(), 2090:2100, median)\n",
    "\n",
    "print(my_metric)\n"
   ]
  },
  {
   "cell_type": "markdown",
   "id": "c3f48c0b-20d5-455d-89d1-0635706a7c48",
   "metadata": {},
   "source": [
    "Printing the object we can see that we have now defined this metric object and it is ready for use.\n",
    "\n",
    "After defining a new metric, we can call `metric_calc()` and use it to compute metric values for each ensemble member. Running `metric_calc()` requires two arguments: 1) our PPE results and 2) our fully defined metric (`my_metric`):\n"
   ]
  },
  {
   "cell_type": "code",
   "execution_count": null,
   "id": "86cb703a-6a61-40bd-92ab-19af22f85eea",
   "metadata": {
    "tags": []
   },
   "outputs": [],
   "source": [
    "# Compute metric values\n",
    "metric_values <- metric_calc(results, my_metric)\n",
    "\n",
    "head(metric_values)\n"
   ]
  },
  {
   "cell_type": "markdown",
   "id": "a44f27f6-ad42-477b-8e88-7ed9cc8195e4",
   "metadata": {},
   "source": [
    "The result is a data frame object with a `metric_result` for each member of the ensemble.\n",
    "\n",
    "This data can be used in several ways. First, it can be used to compute warming quantiles. For example, we can use the entire ensemble to compute median future warming with a _very likely_ range (5-95% CI) weighted by our ensemble weights.\n",
    "\n",
    "In Matilda we have provided a function that directly summarizes weighted probabilities for future climate changes.\n"
   ]
  },
  {
   "cell_type": "markdown",
   "id": "18b67975-1d0e-48d6-9b8f-4a61b70321ac",
   "metadata": {},
   "source": [
    "# Weighted probabilistic projections\n",
    "\n",
    "So far we have discussed how to build a PPE by applying parameter uncertainty, weighting/scoring/constraining ensembles against historical or modeled data, and how to use the PPE memebers to summarize the analysis. \n",
    "\n",
    "Here we will cover one more cool feature of Matilda, computing probabilities. In this framework, we can call `prob_calc()` to compute probabilities of future climate change according to our PPE metrics and weights. During this process Matilda takes user defined ranges (or \"bins\") and sorts the PPE based on the metric value, summing PPE member weights as they are sorted. \n",
    "\n",
    "We can use our previous metric of `median global_tas for 2090-2100` to compute probabilities of specific warming ranges: "
   ]
  },
  {
   "cell_type": "code",
   "execution_count": null,
   "id": "c1bb3d7c-ec6a-4f9d-b5a4-7eefe52ddb59",
   "metadata": {
    "tags": []
   },
   "outputs": [],
   "source": [
    "# Establish temp ranges for binning metric values\n",
    "temp_ranges <- c(0, 1.0, 1.5, 2.0, 2.5, 3.0, 3.5, 4.0, 4.5, Inf)\n",
    "\n",
    "# Calculate probabilities for global_tas\n",
    "prob_results <- prob_calc(metric_values$metric_result,\n",
    "                          bins = temp_ranges,\n",
    "                          scores = scores$weights)\n",
    "prob_results <- prob_results[, -2]\n",
    "prob_results$scenario <- \"SSP2-4.5\"\n",
    "prob_results"
   ]
  },
  {
   "cell_type": "markdown",
   "id": "e3641065-449d-4f69-b664-008f06754247",
   "metadata": {},
   "source": [
    "Because `prob_calc()` bins each metric and sums the weights of each PPE member as it is binned, it can use the summed weight of each bin to compute the probability of each climate variable outcome.\n",
    "\n",
    "The result shows the likelihood that median temperature anomaly for each of the temperature ranges we defined. \n",
    "\n",
    "**Note**: These results are simply to show how the package is used and should not be taken as true projections of future warming. \n",
    "\n",
    "We can visualize these probabilities in a popular stacked bar format, where the length of the bar (100%) is partitioned by the probability of each warming range:"
   ]
  },
  {
   "cell_type": "code",
   "execution_count": null,
   "id": "a501cc2f-79e0-4b0f-96de-f846188df304",
   "metadata": {
    "tags": []
   },
   "outputs": [],
   "source": [
    "temp_cols <- c(\"#2166AC\",\"#4393C3\",\"#D1E5f0\",\"#FDDBC7\",\"#F4A582\",\"#D6604D\",\"#B2182B\",\"#67001F\") \n",
    "probability_plot <- ggplot(data = prob_results,\n",
    "                          aes(fill = bins,\n",
    "                              x = scenario, \n",
    "                              y = probability)) +\n",
    "                    geom_bar(position = position_fill(reverse = T),\n",
    "                             stat = \"identity\",\n",
    "                             width = 0.5) +\n",
    "                    scale_y_continuous(breaks = seq(0.0, 1.0, 0.1)) +\n",
    "                    scale_fill_manual(\n",
    "                    values = temp_cols, \n",
    "                    labels = c(expression(paste(\"1.0 to 1.5\", ~degree, \"C\")),\n",
    "                               expression(paste(\"1.5 to 2.0\", ~degree, \"C\")),\n",
    "                               expression(paste(\"2.0 to 2.5\", ~degree, \"C\")),\n",
    "                               expression(paste(\"2.5 to 3.0\", ~degree, \"C\")),\n",
    "                               expression(paste(\"3.0 to 3.5\", ~degree, \"C\")),\n",
    "                               expression(paste(\"3.5 to 4.0\", ~degree, \"C\")),\n",
    "                               expression(paste(\"4.0 to 4.5\", ~degree, \"C\")),\n",
    "                               expression(paste(\" > 4.5\", ~degree, \"C\"))),\n",
    "                        name = \"Warming\") +\n",
    "                    labs(y = \"Probability\",\n",
    "                         x = \"Forcing Scenario\", \n",
    "                         title = \"Probability of Warming\") +\n",
    "                    coord_flip() + \n",
    "                    theme_light(base_size = 18) + \n",
    "                    theme(legend.position = \"bottom\")\n",
    "probability_plot"
   ]
  },
  {
   "cell_type": "markdown",
   "id": "09269121-aa5d-4337-9bd8-f7c26a8baffd",
   "metadata": {},
   "source": [
    "# The whole game\n",
    "\n",
    "The Hector simple climate model runs very quickly. The computational efficiency is what makes this framework posible. Using the Hector/Matilda combination makes it easier to run probabilistic analyses on multple SSP-RCP scenarios at once using the `apply()` family of functions in `R`.\n",
    "\n",
    "The following chunks of code runs a top to bottom Matilda instance for each of four SSP scenarios (SSP1-1.9, SSP2-4.5, SSP3-7.0, and SSP5-8.5), using a very modest number of parameter sets. For simplicity we continue to weight the PPE members with a single scoring criterion (`criterion_gmst_obs()`), but this time with the `score_bayesian()` function.\n"
   ]
  },
  {
   "cell_type": "markdown",
   "id": "9c69c700-93e5-4748-afa4-b24c204d167f",
   "metadata": {},
   "source": [
    "## Initiating"
   ]
  },
  {
   "cell_type": "code",
   "execution_count": null,
   "id": "0e544b15-4060-4512-b90f-8b8c7160126c",
   "metadata": {
    "tags": []
   },
   "outputs": [],
   "source": [
    "# locate the ini directory\n",
    "ini_dir <- paste0(system.file(\"input\", package = \"hector\"), \"/\")\n",
    "\n",
    "# read in ini files into a list\n",
    "ini_list <- list(ssp119 = paste0(ini_dir, \"hector_ssp119.ini\"),\n",
    "                 ssp245 = paste0(ini_dir, \"hector_ssp245.ini\"),\n",
    "                 ssp370 = paste0(ini_dir, \"hector_ssp370.ini\"),\n",
    "                 ssp585 = paste0(ini_dir, \"hector_ssp585.ini\"))"
   ]
  },
  {
   "cell_type": "markdown",
   "id": "5f2ba4f8-09ee-42cf-83f3-bcc3558d4a2c",
   "metadata": {},
   "source": [
    "## Parameter generation"
   ]
  },
  {
   "cell_type": "code",
   "execution_count": null,
   "id": "14822a9e-e0fe-4a08-8ce3-ad03a953b092",
   "metadata": {
    "tags": []
   },
   "outputs": [],
   "source": [
    "# Using generate_params() to build the perturbed parameter set\n",
    "\n",
    "# set seed for replication\n",
    "set.seed(123)\n",
    "\n",
    "# set sample size (we will run with a small sample size for now)\n",
    "n = 40\n",
    "\n",
    "# initiate a core using the first ini file in ini_list\n",
    "params_core <- newcore(ini_list[[1]])\n",
    "\n",
    "# produce parameter set \n",
    "params <- generate_params(core = params_core,\n",
    "                          draws = n)"
   ]
  },
  {
   "cell_type": "markdown",
   "id": "f04b6700-7cbe-41cb-8812-97918e2fac60",
   "metadata": {},
   "source": [
    "## Running Model"
   ]
  },
  {
   "cell_type": "code",
   "execution_count": null,
   "id": "6ba6301a-aaa7-41c7-b43f-9e61239951cc",
   "metadata": {
    "tags": []
   },
   "outputs": [],
   "source": [
    "# using element names in ini_list, loop through each scenario_name and run the model\n",
    "model_results <- lapply(names(ini_list), function(scenario_name){\n",
    "  \n",
    "  # extract scenario information from each element in the ini_list by \n",
    "  # scenario name\n",
    "  scenario = ini_list[[scenario_name]]\n",
    "  \n",
    "  # initiate core for the scenario\n",
    "  core = newcore(scenario, name = scenario_name)\n",
    "  \n",
    "  # run the model \n",
    "  result = iterate_model(core = core, \n",
    "                         params = params, \n",
    "                         save_years = 1800:2100,\n",
    "                         save_vars = GMST())\n",
    "  \n",
    "})"
   ]
  },
  {
   "cell_type": "markdown",
   "id": "5ab8f383-7bd2-4c92-9857-a04a3d1f2cf1",
   "metadata": {},
   "source": [
    "## Model Scoring and Weighting"
   ]
  },
  {
   "cell_type": "code",
   "execution_count": null,
   "id": "df99d729-24f1-40da-b318-2d82a1016b1e",
   "metadata": {
    "tags": []
   },
   "outputs": [],
   "source": [
    "# loop through results in model_results to compute model weights for each \n",
    "score_list <- lapply(model_results, function(df){\n",
    "  \n",
    "  # use observed temperature to compute model weights\n",
    "  scores_temp <- score_runs(df, \n",
    "                            criterion = criterion_gmst_obs(),\n",
    "                            score_function = score_bayesian)\n",
    "})"
   ]
  },
  {
   "cell_type": "code",
   "execution_count": null,
   "id": "94f7a8b1-b459-4dfd-a27c-4505f6979cb8",
   "metadata": {
    "tags": []
   },
   "outputs": [],
   "source": [
    "# merge results df in model_results with the corresponding scores in score_list \n",
    "# by the run_number column\n",
    "scored_result_list <- Map(merge, model_results, score_list, by = \"run_number\")\n",
    "\n",
    "# bind the elements in scored_result_list to build data frame for plotting\n",
    "scored_result_df <- do.call(rbind, scored_result_list)"
   ]
  },
  {
   "cell_type": "markdown",
   "id": "b573b234-77d9-4508-8234-4066e040af3e",
   "metadata": {},
   "source": [
    "## Computing Metrics"
   ]
  },
  {
   "cell_type": "code",
   "execution_count": null,
   "id": "865e2794-8b49-4846-b989-bf2562a40b89",
   "metadata": {
    "tags": []
   },
   "outputs": [],
   "source": [
    "my_metric <- new_metric(var = GMST(), years = 2090:2100, op = median)"
   ]
  },
  {
   "cell_type": "code",
   "execution_count": null,
   "id": "5f9e324c-3091-45c5-adda-3614e2a46336",
   "metadata": {
    "tags": []
   },
   "outputs": [],
   "source": [
    "# loop through results and compute metrics for each\n",
    "metric_list <- lapply(model_results, function(df){\n",
    "  \n",
    "  # calculate metrics using the metric we defined in the previous step\n",
    "  metric_calc(df, my_metric)\n",
    "  \n",
    "})\n",
    "\n",
    "# merge the metrics_list dfs with score_list \n",
    "scored_metric_list <- Map(merge, metric_list, score_list, by = \"run_number\")"
   ]
  },
  {
   "cell_type": "markdown",
   "id": "8a1a523c-508a-47e3-9f4d-919548af00d9",
   "metadata": {},
   "source": [
    "## Computing Probabilities"
   ]
  },
  {
   "cell_type": "code",
   "execution_count": null,
   "id": "e1f675c2-6385-4df8-9624-8398fc87dceb",
   "metadata": {
    "tags": []
   },
   "outputs": [],
   "source": [
    "# Define metric ranges\n",
    "temp_ranges <- c(1.0, 1.5, 2.0, 2.5, 3.0, 3.5, 4.0, 4.5, Inf)\n",
    "\n",
    "# compute probabilities for each element in metric_list\n",
    "probability_result <- lapply(scored_metric_list, function(df){\n",
    "  \n",
    "  # use prob_calc to compute probabilities\n",
    "  prob_calc(metrics = df$metric_result,\n",
    "            bins = temp_ranges,\n",
    "            scores = df$weights)\n",
    "  \n",
    "})"
   ]
  },
  {
   "cell_type": "code",
   "execution_count": null,
   "id": "b94c44b6-e9c9-4ce8-a201-0399c5910704",
   "metadata": {
    "tags": []
   },
   "outputs": [],
   "source": [
    "# scenario names\n",
    "scenario_id <- c(\"ssp119\", \"ssp245\", \"ssp370\", \"ssp585\")\n",
    "\n",
    "# Use Map to add scenario names to metric_list()\n",
    "probability_result <- Map(function(df, scenario_id){\n",
    "\n",
    "  # add scenario column and add corresponding scenario id in the scenario_id vector\n",
    "  df$scenario <- scenario_id\n",
    "  \n",
    "  return(df)\n",
    "  \n",
    "}, probability_result, scenario_id)"
   ]
  },
  {
   "cell_type": "code",
   "execution_count": null,
   "id": "b2850dbe-61ac-440e-a3f6-505cbe8ee58b",
   "metadata": {
    "tags": []
   },
   "outputs": [],
   "source": [
    "# bind results to data frame\n",
    "probability_result_df <- do.call(rbind, probability_result)"
   ]
  },
  {
   "cell_type": "markdown",
   "id": "8d155084-37ba-4e2c-97c0-55d26f8cac75",
   "metadata": {},
   "source": [
    "## Plotting the results"
   ]
  },
  {
   "cell_type": "markdown",
   "id": "062b0585-648a-45ee-8a01-43b65544ef2c",
   "metadata": {},
   "source": [
    "#### Plot visualizing ensemble weights "
   ]
  },
  {
   "cell_type": "code",
   "execution_count": null,
   "id": "78d4b826-d120-48c5-8094-0f3b9889eb1a",
   "metadata": {
    "tags": []
   },
   "outputs": [],
   "source": [
    "gmst_projection_plot <- \n",
    "  ggplot(data = scored_result_df) + # sets the plotting environment\n",
    "  geom_line( # identifies plot type\n",
    "    aes(\n",
    "      x = year, # identifies x-axis variable\n",
    "      y = value, # identifies y-axis variable\n",
    "      group = run_number, # identifies how data should be grouped\n",
    "      color = weights, # how color should be applied\n",
    "      alpha = weights), # how transparency should be applied\n",
    "    linewidth = 1) + # sets line width - personal preference\n",
    "  scale_color_gradient(low = \"skyblue\", high = \"dodgerblue4\", name = \"Weights\") + # what colors should be used\n",
    "  scale_alpha_continuous(range(c(0.5, 1))) + # how extreme should the transparency gradient be - this is optional\n",
    "  guides(alpha = \"none\") + # remove alpha legend \n",
    "  facet_wrap(~ scenario) + # panels the figure by scenario name\n",
    "  labs(x = \"Years\", y = \"Temperature Anomaly (C)\") + # adds labels to axes\n",
    "  ggtitle(label = \"Matilda Ensemble weighted by historical temperature\") +\n",
    "  theme_light(base_size = 18) # sets a general theme - personal preference \n",
    "\n",
    "gmst_projection_plot"
   ]
  },
  {
   "cell_type": "markdown",
   "id": "551efce3-6686-4aee-889a-de2f6262a842",
   "metadata": {},
   "source": [
    "#### Plot visualizing warming probabilities"
   ]
  },
  {
   "cell_type": "code",
   "execution_count": null,
   "id": "1f6e681b-28d5-46bc-a03f-9b4271967939",
   "metadata": {
    "tags": []
   },
   "outputs": [],
   "source": [
    "temp_cols <- c(\"#2166AC\",\"#4393C3\",\"#D1E5f0\",\"#FDDBC7\",\"#F4A582\",\"#D6604D\",\"#B2182B\",\"#67001F\") \n",
    "\n",
    "probability_plot <- \n",
    "  ggplot(data = probability_result_df, # identify the data location\n",
    "         aes(\n",
    "           fill = bins, # how fill should be applied\n",
    "           x = scenario, # what data goes on the x-axis\n",
    "           y = probability)) + # what data goes on the y-axis\n",
    "  # below we will be flipping the coord of the figure so right now the axes seem \n",
    "  # backwards from what we want.\n",
    "  geom_bar(position = position_fill(reverse = T), # what type of plot we want and reverse the \n",
    "                                                  # stack order so cooler temps are on left\n",
    "           stat = \"identity\", # we want the width of the bar pieces to be constrained by a value in the data\n",
    "           width = 0.6) + # how wide do you want the bar - personal preference\n",
    "  scale_y_continuous(breaks = seq(0.0, 1.0, 0.1)) + # set the number and interval of probability breaks\n",
    "  scale_fill_manual(\n",
    "    values = temp_cols, # indicate the color palette to use\n",
    "    labels = c(         # edit labels for the legend\n",
    "      expression(paste(\"1.0 to 1.5\", ~degree, \"C\")),\n",
    "      expression(paste(\"1.5 to 2.0\", ~degree, \"C\")),\n",
    "      expression(paste(\"2.0 to 2.5\", ~degree, \"C\")),\n",
    "      expression(paste(\"2.5 to 3.0\", ~degree, \"C\")),\n",
    "      expression(paste(\"3.0 to 3.5\", ~degree, \"C\")),\n",
    "      expression(paste(\"3.5 to 4.0\", ~degree, \"C\")),\n",
    "      expression(paste(\"4.0 to 4.5\", ~degree, \"C\")),\n",
    "      expression(paste(\" > 4.5\", ~degree, \"C\"))),\n",
    "    name = \"Warming\") + # name of the legend\n",
    "  labs(y = \"Probability\",\n",
    "       x = \"Forcing Scenario\", \n",
    "       title = \"Probability of Warming\") +\n",
    "  coord_flip() + # flip the coordinates of the figure to make horizontal representation\n",
    "  theme_light(base_size = 22) + # set theme - personal preference \n",
    "  theme(legend.position = \"bottom\") # change legend position - personal preference\n",
    "\n",
    "probability_plot"
   ]
  },
  {
   "cell_type": "markdown",
   "id": "6a92031e-398e-4718-95b3-0ba77b1d100c",
   "metadata": {},
   "source": [
    "For more information about Matilda and other JGCRI tools please visit the [JGCRI GitHub Page](https://github.com/JGCRI)"
   ]
  }
 ],
 "metadata": {
  "kernelspec": {
   "display_name": "R",
   "language": "R",
   "name": "ir"
  },
  "language_info": {
   "codemirror_mode": "r",
   "file_extension": ".r",
   "mimetype": "text/x-r-source",
   "name": "R",
   "pygments_lexer": "r",
   "version": "4.3.3"
  }
 },
 "nbformat": 4,
 "nbformat_minor": 5
}
